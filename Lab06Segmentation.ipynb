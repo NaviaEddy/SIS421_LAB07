{
  "cells": [
    {
      "cell_type": "markdown",
      "metadata": {
        "id": "view-in-github",
        "colab_type": "text"
      },
      "source": [
        "<a href=\"https://colab.research.google.com/github/NaviaEddy/SIS421_LAB07/blob/main/Lab06Segmentation.ipynb\" target=\"_parent\"><img src=\"https://colab.research.google.com/assets/colab-badge.svg\" alt=\"Open In Colab\"/></a>"
      ]
    },
    {
      "cell_type": "code",
      "execution_count": null,
      "metadata": {
        "id": "403rTi9imMrd"
      },
      "outputs": [],
      "source": [
        "#importamos las librerias\n",
        "import torch\n",
        "import torchvision\n",
        "import os\n",
        "import matplotlib.pyplot as plt\n",
        "import numpy as np\n",
        "import pandas as pd\n",
        "import cv2\n",
        "from PIL import Image\n",
        "import random"
      ]
    },
    {
      "cell_type": "code",
      "execution_count": null,
      "metadata": {
        "colab": {
          "base_uri": "https://localhost:8080/",
          "height": 36
        },
        "id": "nKx3F1pvmbV2",
        "outputId": "3ee4b473-2d8c-4c62-9748-f3460190c154"
      },
      "outputs": [
        {
          "data": {
            "application/vnd.google.colaboratory.intrinsic+json": {
              "type": "string"
            },
            "text/plain": [
              "'cuda'"
            ]
          },
          "execution_count": 4,
          "metadata": {},
          "output_type": "execute_result"
        }
      ],
      "source": [
        "device = \"cuda\" if torch.cuda.is_available() else \"cpu\"\n",
        "device"
      ]
    },
    {
      "cell_type": "code",
      "execution_count": null,
      "metadata": {
        "colab": {
          "base_uri": "https://localhost:8080/"
        },
        "id": "DiWJPUhKjf0H",
        "outputId": "23ad88a6-cb9d-4aef-d180-99c18ca7b461"
      },
      "outputs": [
        {
          "name": "stdout",
          "output_type": "stream",
          "text": [
            "Mounted at /content/drive\n"
          ]
        }
      ],
      "source": [
        "from google.colab import drive\n",
        "drive.mount('/content/drive')"
      ]
    },
    {
      "cell_type": "code",
      "execution_count": null,
      "metadata": {
        "colab": {
          "base_uri": "https://localhost:8080/"
        },
        "id": "Isnvu3EajhRX",
        "outputId": "6b0fd228-2b02-441f-c66c-eb08228c2815"
      },
      "outputs": [
        {
          "name": "stdout",
          "output_type": "stream",
          "text": [
            "¡Descompresión completada!\n"
          ]
        }
      ],
      "source": [
        "import zipfile\n",
        "\n",
        "# Ruta al archivo zip que deseas descomprimir\n",
        "zip_file_path = '/content/drive/MyDrive/DatasetPerros_B_S.zip'\n",
        "\n",
        "# Directorio de destino donde se extraerán los archivos\n",
        "extract_dir = '/content/extraido.zip'\n",
        "\n",
        "# Crear el directorio de destino si no existe\n",
        "os.makedirs(extract_dir, exist_ok=True)\n",
        "\n",
        "# Descomprimir el archivo zip\n",
        "with zipfile.ZipFile(zip_file_path, 'r') as zip_ref:\n",
        "    zip_ref.extractall(extract_dir)\n",
        "\n",
        "print(\"¡Descompresión completada!\")"
      ]
    },
    {
      "cell_type": "code",
      "execution_count": null,
      "metadata": {
        "colab": {
          "base_uri": "https://localhost:8080/"
        },
        "id": "q6GU0YVfixPk",
        "outputId": "fd82f73c-bae2-49ee-9021-c3ad753ef3a1"
      },
      "outputs": [
        {
          "name": "stdout",
          "output_type": "stream",
          "text": [
            "Propiedades de la imagen:\n",
            "(50, 50, 3) float32 1.0 0.0\n",
            "\n",
            "Propiedades de la máscara después de one-hot encoding:\n",
            "(50, 50, 9) float32 1.0 0.0\n"
          ]
        }
      ],
      "source": [
        "import numpy as np\n",
        "from PIL import Image\n",
        "import os\n",
        "\n",
        "def cargar_imagenes_y_mascaras(ruta_imagenes, ruta_mascaras):\n",
        "    imagenes = []\n",
        "    mascaras = []\n",
        "\n",
        "    clases = os.listdir(ruta_imagenes)  # Obtener la lista de clases desde la carpeta de imágenes\n",
        "\n",
        "    for clase in clases:\n",
        "        # Ruta a la carpeta de imágenes y máscaras de la clase actual\n",
        "        ruta_imagenes_clase = os.path.join(ruta_imagenes, clase)\n",
        "        ruta_mascaras_clase = os.path.join(ruta_mascaras, clase)\n",
        "\n",
        "        # Obtener la lista de imágenes en la carpeta de imágenes\n",
        "        imagenes_clase = os.listdir(ruta_imagenes_clase)\n",
        "\n",
        "        # Iterar sobre las imágenes en la carpeta de imágenes\n",
        "        for imagen_nombre in imagenes_clase:\n",
        "            imagen_ruta = os.path.join(ruta_imagenes_clase, imagen_nombre)\n",
        "            imagen = Image.open(imagen_ruta).convert('RGB')  # Convertir la imagen a RGB\n",
        "            imagen = np.array(imagen, dtype=np.float32) / 255.0  # Normalizar la imagen y convertirla a float32\n",
        "            imagenes.append(imagen)\n",
        "\n",
        "            # Construir la ruta de la máscara correspondiente a la imagen actual\n",
        "            mascara_nombre = imagen_nombre.split('.')[0] + '.png'  # Cambiar la extensión a .png\n",
        "            mascara_ruta = os.path.join(ruta_mascaras_clase, mascara_nombre)\n",
        "            # Verificar si la máscara existe\n",
        "            if os.path.exists(mascara_ruta):\n",
        "                # Si existe, cargar la máscara\n",
        "                mascara = Image.open(mascara_ruta)\n",
        "                # Aplicar one-hot encoding a las máscaras y agregar un canal para cada clase\n",
        "                mask_oh = (np.arange(len(clases) + 1) == np.array(mascara)[:, :, 0][..., None]).astype(np.float32)\n",
        "                mascaras.append(mask_oh)\n",
        "            else:\n",
        "                # Si no existe, imprimir un mensaje de advertencia y continuar con la siguiente imagen\n",
        "                print(f\"No se encontró la máscara para la imagen: {imagen_nombre}\")\n",
        "\n",
        "    return imagenes, mascaras\n",
        "\n",
        "\n",
        "# Rutas a las carpetas de imágenes y máscaras\n",
        "ruta_mascaras = '/content/extraido.zip/DatasetPerros_B_S/Mask'\n",
        "ruta_imagenes = '/content/extraido.zip/DatasetPerros_B_S/Perros_dataset'\n",
        "\n",
        "# Cargar imágenes y máscaras\n",
        "imagenes, mascaras = cargar_imagenes_y_mascaras(ruta_imagenes, ruta_mascaras)\n",
        "\n",
        "# Imprimir las propiedades de una imagen y una máscara\n",
        "img = imagenes[0]\n",
        "mask = mascaras[0]\n",
        "\n",
        "print(\"Propiedades de la imagen:\")\n",
        "print(img.shape, img.dtype, img.max(), img.min())\n",
        "\n",
        "print(\"\\nPropiedades de la máscara después de one-hot encoding:\")\n",
        "print(mask.shape, mask.dtype, mask.max(), mask.min())"
      ]
    },
    {
      "cell_type": "code",
      "execution_count": null,
      "metadata": {
        "colab": {
          "base_uri": "https://localhost:8080/"
        },
        "id": "mZO69xHtkOe7",
        "outputId": "61806f48-003f-4bdf-ab95-55c0d764f5f2"
      },
      "outputs": [
        {
          "data": {
            "text/plain": [
              "8000"
            ]
          },
          "execution_count": 8,
          "metadata": {},
          "output_type": "execute_result"
        }
      ],
      "source": [
        "len(mascaras)"
      ]
    },
    {
      "cell_type": "code",
      "execution_count": null,
      "metadata": {
        "id": "Q2DHD46rixPv"
      },
      "outputs": [],
      "source": [
        "import torch.nn.functional as F\n",
        "\n",
        "def conv3x3_bn(ci, co):\n",
        "    return torch.nn.Sequential(\n",
        "        torch.nn.Conv2d(ci, co, 3, padding=1),\n",
        "        torch.nn.BatchNorm2d(co),\n",
        "        torch.nn.ReLU(inplace=True)\n",
        "    )\n",
        "\n",
        "def encoder_conv(ci, co):\n",
        "  return torch.nn.Sequential(\n",
        "        torch.nn.MaxPool2d(2),\n",
        "        conv3x3_bn(ci, co),\n",
        "        conv3x3_bn(co, co),\n",
        "    )\n",
        "\n",
        "class deconv(torch.nn.Module):\n",
        "    def __init__(self, ci, co):\n",
        "        super(deconv, self).__init__()\n",
        "        self.upsample = torch.nn.ConvTranspose2d(ci, co, 2, stride=2)\n",
        "        self.conv1 = conv3x3_bn(ci, co)\n",
        "        self.conv2 = conv3x3_bn(co, co)\n",
        "\n",
        "    # recibe la salida de la capa anetrior y la salida de la etapa\n",
        "    # correspondiente del encoder\n",
        "    def forward(self, x1, x2):\n",
        "        x1 = self.upsample(x1)\n",
        "        diffX = x2.size()[2] - x1.size()[2]\n",
        "        diffY = x2.size()[3] - x1.size()[3]\n",
        "        x1 = F.pad(x1, (diffX, 0, diffY, 0))\n",
        "        # concatenamos los tensores\n",
        "        x = torch.cat([x2, x1], dim=1)\n",
        "        x = self.conv1(x)\n",
        "        x = self.conv2(x)\n",
        "        return x\n",
        "\n",
        "class UNet(torch.nn.Module):\n",
        "    def __init__(self, n_classes=9, in_ch=3):\n",
        "        super().__init__()\n",
        "\n",
        "        # lista de capas en encoder-decoder con número de filtros\n",
        "        c = [16, 32, 64, 128]\n",
        "\n",
        "        # primera capa conv que recibe la imagen\n",
        "        self.conv1 = torch.nn.Sequential(\n",
        "          conv3x3_bn(in_ch, c[0]),\n",
        "          conv3x3_bn(c[0], c[0]),\n",
        "        )\n",
        "        # capas del encoder\n",
        "        self.conv2 = encoder_conv(c[0], c[1])\n",
        "        self.conv3 = encoder_conv(c[1], c[2])\n",
        "        self.conv4 = encoder_conv(c[2], c[3])\n",
        "\n",
        "        # capas del decoder\n",
        "        self.deconv1 = deconv(c[3],c[2])\n",
        "        self.deconv2 = deconv(c[2],c[1])\n",
        "        self.deconv3 = deconv(c[1],c[0])\n",
        "\n",
        "        # útlima capa conv que nos da la máscara\n",
        "        self.out = torch.nn.Conv2d(c[0], n_classes, 3, padding=1)\n",
        "\n",
        "    def forward(self, x):\n",
        "        # encoder\n",
        "        x1 = self.conv1(x)\n",
        "        x2 = self.conv2(x1)\n",
        "        x3 = self.conv3(x2)\n",
        "        x = self.conv4(x3)\n",
        "        # decoder\n",
        "        x = self.deconv1(x, x3)\n",
        "        x = self.deconv2(x, x2)\n",
        "        x = self.deconv3(x, x1)\n",
        "        x = self.out(x)\n",
        "        return x"
      ]
    },
    {
      "cell_type": "code",
      "execution_count": null,
      "metadata": {
        "colab": {
          "base_uri": "https://localhost:8080/"
        },
        "id": "gv1jFNB6ixPy",
        "outputId": "120c800d-9120-442a-a972-d39a836e5121"
      },
      "outputs": [
        {
          "data": {
            "text/plain": [
              "torch.Size([10, 9, 50, 50])"
            ]
          },
          "execution_count": 10,
          "metadata": {},
          "output_type": "execute_result"
        }
      ],
      "source": [
        "model = UNet()\n",
        "output = model(torch.randn((10,3,50,50)))\n",
        "output.shape"
      ]
    },
    {
      "cell_type": "code",
      "execution_count": null,
      "metadata": {
        "id": "Kaduk0hCixP1"
      },
      "outputs": [],
      "source": [
        "device = \"cuda\" if torch.cuda.is_available() else \"cpu\"\n",
        "\n",
        "def fit(model, X, y, epochs=1, lr=3e-4):\n",
        "    optimizer = torch.optim.Adam(model.parameters(), lr=lr)\n",
        "    criterion = torch.nn.BCEWithLogitsLoss()\n",
        "    model.to(device)\n",
        "    X, y = X.to(device), y.to(device)\n",
        "    model.train()\n",
        "    for epoch in range(1, epochs+1):\n",
        "        optimizer.zero_grad()\n",
        "        y_hat = model(X)\n",
        "        loss = criterion(y_hat, y)\n",
        "        loss.backward()\n",
        "        optimizer.step()\n",
        "        print(f\"Epoch {epoch}/{epochs} loss {loss.item():.5f}\")"
      ]
    },
    {
      "cell_type": "code",
      "execution_count": null,
      "metadata": {
        "colab": {
          "base_uri": "https://localhost:8080/"
        },
        "id": "x9LpssPjixP2",
        "outputId": "68fc5bdd-3458-4ce5-f775-ebd9a2ae10eb"
      },
      "outputs": [
        {
          "data": {
            "text/plain": [
              "(torch.Size([1, 3, 50, 50]), torch.Size([1, 9, 50, 50]))"
            ]
          },
          "execution_count": 12,
          "metadata": {},
          "output_type": "execute_result"
        }
      ],
      "source": [
        "# Convertir la imagen a tipo float32\n",
        "img_tensor = torch.tensor(img).permute(2, 0, 1).unsqueeze(0)\n",
        "# Mantener las máscaras como uint8\n",
        "mask_tensor = torch.tensor(mask).permute(2, 0, 1).unsqueeze(0)\n",
        "\n",
        "img_tensor.shape, mask_tensor.shape"
      ]
    },
    {
      "cell_type": "code",
      "execution_count": null,
      "metadata": {
        "colab": {
          "base_uri": "https://localhost:8080/"
        },
        "id": "46NaYEK3ixP4",
        "outputId": "fa2e8e83-fc39-470a-970c-ddfbe7bfcaa5"
      },
      "outputs": [
        {
          "name": "stdout",
          "output_type": "stream",
          "text": [
            "Epoch 1/30 loss 0.66779\n",
            "Epoch 2/30 loss 0.65488\n",
            "Epoch 3/30 loss 0.64352\n",
            "Epoch 4/30 loss 0.63302\n",
            "Epoch 5/30 loss 0.62297\n",
            "Epoch 6/30 loss 0.61328\n",
            "Epoch 7/30 loss 0.60398\n",
            "Epoch 8/30 loss 0.59494\n",
            "Epoch 9/30 loss 0.58606\n",
            "Epoch 10/30 loss 0.57732\n",
            "Epoch 11/30 loss 0.56869\n",
            "Epoch 12/30 loss 0.56019\n",
            "Epoch 13/30 loss 0.55179\n",
            "Epoch 14/30 loss 0.54348\n",
            "Epoch 15/30 loss 0.53528\n",
            "Epoch 16/30 loss 0.52720\n",
            "Epoch 17/30 loss 0.51923\n",
            "Epoch 18/30 loss 0.51137\n",
            "Epoch 19/30 loss 0.50363\n",
            "Epoch 20/30 loss 0.49600\n",
            "Epoch 21/30 loss 0.48848\n",
            "Epoch 22/30 loss 0.48104\n",
            "Epoch 23/30 loss 0.47371\n",
            "Epoch 24/30 loss 0.46646\n",
            "Epoch 25/30 loss 0.45931\n",
            "Epoch 26/30 loss 0.45223\n",
            "Epoch 27/30 loss 0.44526\n",
            "Epoch 28/30 loss 0.43838\n",
            "Epoch 29/30 loss 0.43160\n",
            "Epoch 30/30 loss 0.42490\n"
          ]
        }
      ],
      "source": [
        "fit(model, img_tensor, mask_tensor, epochs=30)"
      ]
    },
    {
      "cell_type": "code",
      "execution_count": null,
      "metadata": {
        "id": "AVbv9r-Ds0re"
      },
      "outputs": [],
      "source": [
        "def iou(outputs, labels):\n",
        "    # aplicar sigmoid y convertir a binario\n",
        "    outputs, labels = torch.sigmoid(outputs) > 0.5, labels > 0.5\n",
        "    SMOOTH = 1e-6\n",
        "    # BATCH x num_classes x H x W\n",
        "    B, N, H, W = outputs.shape\n",
        "    ious = []\n",
        "    for i in range(N-1): # saltamos el background\n",
        "        _out, _labs = outputs[:,i,:,:], labels[:,i,:,:]\n",
        "        intersection = (_out & _labs).float().sum((1, 2))\n",
        "        union = (_out | _labs).float().sum((1, 2))\n",
        "        iou = (intersection + SMOOTH) / (union + SMOOTH)\n",
        "        ious.append(iou.mean().item())\n",
        "    return np.mean(ious)"
      ]
    },
    {
      "cell_type": "code",
      "execution_count": null,
      "metadata": {
        "id": "Ycpg4m_Ws2Db"
      },
      "outputs": [],
      "source": [
        "def fit(model, X, y, epochs=1, lr=1e-3):\n",
        "    optimizer = torch.optim.Adam(model.parameters(), lr=lr)\n",
        "    criterion = torch.nn.BCEWithLogitsLoss()\n",
        "    model.to(device)\n",
        "    X, y = X.to(device), y.to(device)\n",
        "    model.train()\n",
        "    for epoch in range(1, epochs+1):\n",
        "        optimizer.zero_grad()\n",
        "        y_hat = model(X)\n",
        "        loss = criterion(y_hat, y)\n",
        "        loss.backward()\n",
        "        optimizer.step()\n",
        "        ious = iou(y_hat, y)\n",
        "        print(f\"Epoch {epoch}/{epochs} loss {loss.item():.5f} iou {ious:.5f}\")"
      ]
    },
    {
      "cell_type": "code",
      "execution_count": null,
      "metadata": {
        "colab": {
          "base_uri": "https://localhost:8080/"
        },
        "id": "v6ILcon0s3no",
        "outputId": "7d73bfb8-af10-4f04-ad80-831179d5c94e"
      },
      "outputs": [
        {
          "name": "stdout",
          "output_type": "stream",
          "text": [
            "Epoch 1/50 loss 0.41829 iou 0.36836\n",
            "Epoch 2/50 loss 0.40309 iou 0.49180\n",
            "Epoch 3/50 loss 0.38114 iou 0.61802\n",
            "Epoch 4/50 loss 0.36029 iou 0.61790\n",
            "Epoch 5/50 loss 0.33839 iou 0.61744\n",
            "Epoch 6/50 loss 0.31912 iou 0.74255\n",
            "Epoch 7/50 loss 0.30073 iou 0.86780\n",
            "Epoch 8/50 loss 0.28353 iou 0.86791\n",
            "Epoch 9/50 loss 0.26698 iou 0.86801\n",
            "Epoch 10/50 loss 0.25160 iou 0.86801\n",
            "Epoch 11/50 loss 0.23728 iou 0.86791\n",
            "Epoch 12/50 loss 0.22381 iou 0.86796\n",
            "Epoch 13/50 loss 0.21109 iou 0.86796\n",
            "Epoch 14/50 loss 0.19914 iou 0.86822\n",
            "Epoch 15/50 loss 0.18800 iou 0.86853\n",
            "Epoch 16/50 loss 0.17753 iou 0.99395\n",
            "Epoch 17/50 loss 0.16776 iou 0.99426\n",
            "Epoch 18/50 loss 0.15862 iou 0.99437\n",
            "Epoch 19/50 loss 0.15010 iou 0.99463\n",
            "Epoch 20/50 loss 0.14213 iou 0.99506\n",
            "Epoch 21/50 loss 0.13467 iou 0.99506\n",
            "Epoch 22/50 loss 0.12770 iou 0.99527\n",
            "Epoch 23/50 loss 0.12119 iou 0.99570\n",
            "Epoch 24/50 loss 0.11510 iou 0.99597\n",
            "Epoch 25/50 loss 0.10939 iou 0.99613\n",
            "Epoch 26/50 loss 0.10407 iou 0.99657\n",
            "Epoch 27/50 loss 0.09911 iou 0.99673\n",
            "Epoch 28/50 loss 0.09445 iou 0.99712\n",
            "Epoch 29/50 loss 0.09010 iou 0.99723\n",
            "Epoch 30/50 loss 0.08602 iou 0.99751\n",
            "Epoch 31/50 loss 0.08220 iou 0.99779\n",
            "Epoch 32/50 loss 0.07861 iou 0.99806\n",
            "Epoch 33/50 loss 0.07524 iou 0.99829\n",
            "Epoch 34/50 loss 0.07208 iou 0.99835\n",
            "Epoch 35/50 loss 0.06910 iou 0.99840\n",
            "Epoch 36/50 loss 0.06631 iou 0.99863\n",
            "Epoch 37/50 loss 0.06368 iou 0.99868\n",
            "Epoch 38/50 loss 0.06120 iou 0.99891\n",
            "Epoch 39/50 loss 0.05886 iou 0.99908\n",
            "Epoch 40/50 loss 0.05666 iou 0.99920\n",
            "Epoch 41/50 loss 0.05459 iou 0.99925\n",
            "Epoch 42/50 loss 0.05263 iou 0.99931\n",
            "Epoch 43/50 loss 0.05077 iou 0.99931\n",
            "Epoch 44/50 loss 0.04902 iou 0.99942\n",
            "Epoch 45/50 loss 0.04736 iou 0.99954\n",
            "Epoch 46/50 loss 0.04579 iou 0.99965\n",
            "Epoch 47/50 loss 0.04431 iou 0.99965\n",
            "Epoch 48/50 loss 0.04290 iou 0.99971\n",
            "Epoch 49/50 loss 0.04156 iou 0.99977\n",
            "Epoch 50/50 loss 0.04029 iou 0.99983\n"
          ]
        }
      ],
      "source": [
        "fit(model, img_tensor, mask_tensor, epochs=50)"
      ]
    },
    {
      "cell_type": "code",
      "execution_count": 67,
      "metadata": {
        "colab": {
          "base_uri": "https://localhost:8080/",
          "height": 742
        },
        "id": "OMa35e1stAjo",
        "outputId": "1b90660d-b644-49ea-e358-4582e0d2a1b7"
      },
      "outputs": [
        {
          "output_type": "stream",
          "name": "stderr",
          "text": [
            "<ipython-input-30-a9fb68643661>:31: UserWarning: To copy construct from a tensor, it is recommended to use sourceTensor.clone().detach() or sourceTensor.clone().detach().requires_grad_(True), rather than torch.tensor(sourceTensor).\n",
            "  x_in = torch.tensor(x.clone())\n"
          ]
        },
        {
          "output_type": "error",
          "ename": "TypeError",
          "evalue": "Invalid shape (3, 50, 50) for image data",
          "traceback": [
            "\u001b[0;31m---------------------------------------------------------------------------\u001b[0m",
            "\u001b[0;31mTypeError\u001b[0m                                 Traceback (most recent call last)",
            "\u001b[0;32m<ipython-input-67-bc12217969c7>\u001b[0m in \u001b[0;36m<cell line: 7>\u001b[0;34m()\u001b[0m\n\u001b[1;32m      5\u001b[0m \u001b[0;34m\u001b[0m\u001b[0m\n\u001b[1;32m      6\u001b[0m \u001b[0mfig\u001b[0m\u001b[0;34m,\u001b[0m \u001b[0;34m(\u001b[0m\u001b[0max1\u001b[0m\u001b[0;34m,\u001b[0m \u001b[0max2\u001b[0m\u001b[0;34m,\u001b[0m \u001b[0max3\u001b[0m\u001b[0;34m)\u001b[0m \u001b[0;34m=\u001b[0m \u001b[0mplt\u001b[0m\u001b[0;34m.\u001b[0m\u001b[0msubplots\u001b[0m\u001b[0;34m(\u001b[0m\u001b[0;36m1\u001b[0m\u001b[0;34m,\u001b[0m \u001b[0;36m3\u001b[0m\u001b[0;34m,\u001b[0m \u001b[0mfigsize\u001b[0m\u001b[0;34m=\u001b[0m\u001b[0;34m(\u001b[0m\u001b[0;36m30\u001b[0m\u001b[0;34m,\u001b[0m\u001b[0;36m10\u001b[0m\u001b[0;34m)\u001b[0m\u001b[0;34m)\u001b[0m\u001b[0;34m\u001b[0m\u001b[0;34m\u001b[0m\u001b[0m\n\u001b[0;32m----> 7\u001b[0;31m \u001b[0max1\u001b[0m\u001b[0;34m.\u001b[0m\u001b[0mimshow\u001b[0m\u001b[0;34m(\u001b[0m\u001b[0mimg\u001b[0m\u001b[0;34m)\u001b[0m\u001b[0;34m\u001b[0m\u001b[0;34m\u001b[0m\u001b[0m\n\u001b[0m\u001b[1;32m      8\u001b[0m \u001b[0mbinary_mask\u001b[0m \u001b[0;34m=\u001b[0m \u001b[0mnp\u001b[0m\u001b[0;34m.\u001b[0m\u001b[0margmax\u001b[0m\u001b[0;34m(\u001b[0m\u001b[0mmask\u001b[0m\u001b[0;34m*\u001b[0m\u001b[0;34m(\u001b[0m\u001b[0;34m-\u001b[0m\u001b[0;36m1\u001b[0m\u001b[0;34m)\u001b[0m\u001b[0;34m,\u001b[0m \u001b[0maxis\u001b[0m\u001b[0;34m=\u001b[0m\u001b[0;34m-\u001b[0m\u001b[0;36m1\u001b[0m\u001b[0;34m)\u001b[0m  \u001b[0;31m# Selección de la clase con el valor más alto en cada píxel\u001b[0m\u001b[0;34m\u001b[0m\u001b[0;34m\u001b[0m\u001b[0m\n\u001b[1;32m      9\u001b[0m \u001b[0mbinary_mask\u001b[0m \u001b[0;34m=\u001b[0m \u001b[0mbinary_mask\u001b[0m\u001b[0;34m.\u001b[0m\u001b[0mastype\u001b[0m\u001b[0;34m(\u001b[0m\u001b[0mnp\u001b[0m\u001b[0;34m.\u001b[0m\u001b[0muint8\u001b[0m\u001b[0;34m)\u001b[0m\u001b[0;34m\u001b[0m\u001b[0;34m\u001b[0m\u001b[0m\n",
            "\u001b[0;32m/usr/local/lib/python3.10/dist-packages/matplotlib/__init__.py\u001b[0m in \u001b[0;36minner\u001b[0;34m(ax, data, *args, **kwargs)\u001b[0m\n\u001b[1;32m   1440\u001b[0m     \u001b[0;32mdef\u001b[0m \u001b[0minner\u001b[0m\u001b[0;34m(\u001b[0m\u001b[0max\u001b[0m\u001b[0;34m,\u001b[0m \u001b[0;34m*\u001b[0m\u001b[0margs\u001b[0m\u001b[0;34m,\u001b[0m \u001b[0mdata\u001b[0m\u001b[0;34m=\u001b[0m\u001b[0;32mNone\u001b[0m\u001b[0;34m,\u001b[0m \u001b[0;34m**\u001b[0m\u001b[0mkwargs\u001b[0m\u001b[0;34m)\u001b[0m\u001b[0;34m:\u001b[0m\u001b[0;34m\u001b[0m\u001b[0;34m\u001b[0m\u001b[0m\n\u001b[1;32m   1441\u001b[0m         \u001b[0;32mif\u001b[0m \u001b[0mdata\u001b[0m \u001b[0;32mis\u001b[0m \u001b[0;32mNone\u001b[0m\u001b[0;34m:\u001b[0m\u001b[0;34m\u001b[0m\u001b[0;34m\u001b[0m\u001b[0m\n\u001b[0;32m-> 1442\u001b[0;31m             \u001b[0;32mreturn\u001b[0m \u001b[0mfunc\u001b[0m\u001b[0;34m(\u001b[0m\u001b[0max\u001b[0m\u001b[0;34m,\u001b[0m \u001b[0;34m*\u001b[0m\u001b[0mmap\u001b[0m\u001b[0;34m(\u001b[0m\u001b[0msanitize_sequence\u001b[0m\u001b[0;34m,\u001b[0m \u001b[0margs\u001b[0m\u001b[0;34m)\u001b[0m\u001b[0;34m,\u001b[0m \u001b[0;34m**\u001b[0m\u001b[0mkwargs\u001b[0m\u001b[0;34m)\u001b[0m\u001b[0;34m\u001b[0m\u001b[0;34m\u001b[0m\u001b[0m\n\u001b[0m\u001b[1;32m   1443\u001b[0m \u001b[0;34m\u001b[0m\u001b[0m\n\u001b[1;32m   1444\u001b[0m         \u001b[0mbound\u001b[0m \u001b[0;34m=\u001b[0m \u001b[0mnew_sig\u001b[0m\u001b[0;34m.\u001b[0m\u001b[0mbind\u001b[0m\u001b[0;34m(\u001b[0m\u001b[0max\u001b[0m\u001b[0;34m,\u001b[0m \u001b[0;34m*\u001b[0m\u001b[0margs\u001b[0m\u001b[0;34m,\u001b[0m \u001b[0;34m**\u001b[0m\u001b[0mkwargs\u001b[0m\u001b[0;34m)\u001b[0m\u001b[0;34m\u001b[0m\u001b[0;34m\u001b[0m\u001b[0m\n",
            "\u001b[0;32m/usr/local/lib/python3.10/dist-packages/matplotlib/axes/_axes.py\u001b[0m in \u001b[0;36mimshow\u001b[0;34m(self, X, cmap, norm, aspect, interpolation, alpha, vmin, vmax, origin, extent, interpolation_stage, filternorm, filterrad, resample, url, **kwargs)\u001b[0m\n\u001b[1;32m   5663\u001b[0m                               **kwargs)\n\u001b[1;32m   5664\u001b[0m \u001b[0;34m\u001b[0m\u001b[0m\n\u001b[0;32m-> 5665\u001b[0;31m         \u001b[0mim\u001b[0m\u001b[0;34m.\u001b[0m\u001b[0mset_data\u001b[0m\u001b[0;34m(\u001b[0m\u001b[0mX\u001b[0m\u001b[0;34m)\u001b[0m\u001b[0;34m\u001b[0m\u001b[0;34m\u001b[0m\u001b[0m\n\u001b[0m\u001b[1;32m   5666\u001b[0m         \u001b[0mim\u001b[0m\u001b[0;34m.\u001b[0m\u001b[0mset_alpha\u001b[0m\u001b[0;34m(\u001b[0m\u001b[0malpha\u001b[0m\u001b[0;34m)\u001b[0m\u001b[0;34m\u001b[0m\u001b[0;34m\u001b[0m\u001b[0m\n\u001b[1;32m   5667\u001b[0m         \u001b[0;32mif\u001b[0m \u001b[0mim\u001b[0m\u001b[0;34m.\u001b[0m\u001b[0mget_clip_path\u001b[0m\u001b[0;34m(\u001b[0m\u001b[0;34m)\u001b[0m \u001b[0;32mis\u001b[0m \u001b[0;32mNone\u001b[0m\u001b[0;34m:\u001b[0m\u001b[0;34m\u001b[0m\u001b[0;34m\u001b[0m\u001b[0m\n",
            "\u001b[0;32m/usr/local/lib/python3.10/dist-packages/matplotlib/image.py\u001b[0m in \u001b[0;36mset_data\u001b[0;34m(self, A)\u001b[0m\n\u001b[1;32m    708\u001b[0m         if not (self._A.ndim == 2\n\u001b[1;32m    709\u001b[0m                 or self._A.ndim == 3 and self._A.shape[-1] in [3, 4]):\n\u001b[0;32m--> 710\u001b[0;31m             raise TypeError(\"Invalid shape {} for image data\"\n\u001b[0m\u001b[1;32m    711\u001b[0m                             .format(self._A.shape))\n\u001b[1;32m    712\u001b[0m \u001b[0;34m\u001b[0m\u001b[0m\n",
            "\u001b[0;31mTypeError\u001b[0m: Invalid shape (3, 50, 50) for image data"
          ]
        },
        {
          "output_type": "display_data",
          "data": {
            "text/plain": [
              "<Figure size 3000x1000 with 3 Axes>"
            ],
            "image/png": "[encoded data removed]"
          },
          "metadata": {}
        }
      ],
      "source": [
        "model.eval()\n",
        "with torch.no_grad():\n",
        "    output = model(img_tensor.to(device))[0]\n",
        "    pred_mask = torch.argmax(output, axis=0)\n",
        "\n",
        "fig, (ax1, ax2, ax3) = plt.subplots(1, 3, figsize=(30,10))\n",
        "ax1.imshow(img)\n",
        "binary_mask = np.argmax(mask*(-1), axis=-1)  # Selección de la clase con el valor más alto en cada píxel\n",
        "binary_mask = binary_mask.astype(np.uint8)\n",
        "ax2.imshow(binary_mask)\n",
        "ax3.imshow(pred_mask.squeeze().cpu().numpy())\n",
        "plt.show()"
      ]
    },
    {
      "cell_type": "code",
      "execution_count": null,
      "metadata": {
        "colab": {
          "base_uri": "https://localhost:8080/"
        },
        "id": "NdRexZcuyWDj",
        "outputId": "aae40b3f-9cf2-4fbd-8a1a-f9b0b35806fa"
      },
      "outputs": [
        {
          "name": "stdout",
          "output_type": "stream",
          "text": [
            "Se han convertido y guardado 8000 archivos en la carpeta de destino.\n"
          ]
        }
      ],
      "source": [
        "import os\n",
        "import numpy as np\n",
        "from PIL import Image\n",
        "\n",
        "# Directorio que contiene las subcarpetas con las imágenes en formato PNG\n",
        "dir_principal = '/content/extraido.zip/DatasetPerros_B_S/Mask'\n",
        "\n",
        "# Directorio donde se guardarán los arreglos numpy\n",
        "dir_destino = 'PerrosDataset2/mask'\n",
        "\n",
        "# Crear el directorio de destino si no existe\n",
        "os.makedirs(dir_destino, exist_ok=True)\n",
        "\n",
        "# Contador de archivos convertidos\n",
        "total_archivos = 0\n",
        "\n",
        "# Obtener la lista de subcarpetas en el directorio principal\n",
        "subcarpetas = [subcarpeta for subcarpeta in os.listdir(dir_principal) if os.path.isdir(os.path.join(dir_principal, subcarpeta))]\n",
        "\n",
        "# Iterar sobre las subcarpetas\n",
        "for subcarpeta in subcarpetas:\n",
        "    # Directorio que contiene las imágenes PNG de la subcarpeta actual\n",
        "    dir_imgs = os.path.join(dir_principal, subcarpeta)\n",
        "\n",
        "    # Obtener la lista de archivos PNG en la subcarpeta actual\n",
        "    archivos_png = [archivo for archivo in os.listdir(dir_imgs) if archivo.endswith('.png')]\n",
        "\n",
        "    # Iterar sobre los archivos PNG\n",
        "    for archivo_png in archivos_png:\n",
        "        # Ruta completa del archivo PNG\n",
        "        ruta_png = os.path.join(dir_imgs, archivo_png)\n",
        "\n",
        "        # Leer la imagen PNG\n",
        "        imagen = Image.open(ruta_png)\n",
        "\n",
        "        # Convertir la imagen a un arreglo numpy\n",
        "        arreglo_numpy = np.array(imagen)\n",
        "\n",
        "        # Ruta de destino para guardar el arreglo numpy\n",
        "        ruta_destino = os.path.join(dir_destino, archivo_png.split('.')[0] + '.npy')\n",
        "\n",
        "        # Guardar el arreglo numpy en el directorio de destino\n",
        "        np.save(ruta_destino, arreglo_numpy)\n",
        "\n",
        "        # Incrementar el contador de archivos\n",
        "        total_archivos += 1\n",
        "\n",
        "# Mostrar el número total de archivos convertidos\n",
        "print(f\"Se han convertido y guardado {total_archivos} archivos en la carpeta de destino.\")\n"
      ]
    },
    {
      "cell_type": "code",
      "execution_count": null,
      "metadata": {
        "colab": {
          "base_uri": "https://localhost:8080/"
        },
        "id": "B72vLgfOzb4m",
        "outputId": "1460953c-1192-4dea-b608-b05097984447"
      },
      "outputs": [
        {
          "name": "stdout",
          "output_type": "stream",
          "text": [
            "Se han convertido y guardado 8000 archivos en la carpeta de destino.\n"
          ]
        }
      ],
      "source": [
        "import os\n",
        "import numpy as np\n",
        "from PIL import Image\n",
        "\n",
        "# Directorio que contiene las subcarpetas con las imágenes en formato PNG\n",
        "dir_principal = '/content/extraido.zip/DatasetPerros_B_S/Perros_dataset'\n",
        "\n",
        "# Directorio donde se guardarán los arreglos numpy\n",
        "dir_destino = 'PerrosDataset2/Perros'\n",
        "\n",
        "# Crear el directorio de destino si no existe\n",
        "os.makedirs(dir_destino, exist_ok=True)\n",
        "\n",
        "# Contador de archivos convertidos\n",
        "total_archivos = 0\n",
        "\n",
        "# Obtener la lista de subcarpetas en el directorio principal\n",
        "subcarpetas = [subcarpeta for subcarpeta in os.listdir(dir_principal) if os.path.isdir(os.path.join(dir_principal, subcarpeta))]\n",
        "\n",
        "# Iterar sobre las subcarpetas\n",
        "for subcarpeta in subcarpetas:\n",
        "    # Directorio que contiene las imágenes PNG de la subcarpeta actual\n",
        "    dir_imgs = os.path.join(dir_principal, subcarpeta)\n",
        "\n",
        "    # Obtener la lista de archivos PNG en la subcarpeta actual\n",
        "    archivos_png = [archivo for archivo in os.listdir(dir_imgs) if archivo.endswith('.jpg')]\n",
        "\n",
        "    # Iterar sobre los archivos PNG\n",
        "    for archivo_png in archivos_png:\n",
        "        # Ruta completa del archivo PNG\n",
        "        ruta_png = os.path.join(dir_imgs, archivo_png)\n",
        "\n",
        "        # Leer la imagen PNG\n",
        "        imagen = Image.open(ruta_png)\n",
        "\n",
        "        # Convertir la imagen a un arreglo numpy\n",
        "        arreglo_numpy = np.array(imagen)\n",
        "\n",
        "        # Ruta de destino para guardar el arreglo numpy\n",
        "        ruta_destino = os.path.join(dir_destino, archivo_png.split('.')[0] + '.npy')\n",
        "\n",
        "        # Guardar el arreglo numpy en el directorio de destino\n",
        "        np.save(ruta_destino, arreglo_numpy)\n",
        "\n",
        "        # Incrementar el contador de archivos\n",
        "        total_archivos += 1\n",
        "\n",
        "# Mostrar el número total de archivos convertidos\n",
        "print(f\"Se han convertido y guardado {total_archivos} archivos en la carpeta de destino.\")"
      ]
    },
    {
      "cell_type": "code",
      "execution_count": null,
      "metadata": {
        "colab": {
          "base_uri": "https://localhost:8080/"
        },
        "id": "D5o-7WaHzvLI",
        "outputId": "79f582f9-6439-4fbe-823b-c556aa1c6764"
      },
      "outputs": [
        {
          "data": {
            "text/plain": [
              "(8000, 8000, list, list)"
            ]
          },
          "execution_count": 20,
          "metadata": {},
          "output_type": "execute_result"
        }
      ],
      "source": [
        "import os\n",
        "from pathlib import Path\n",
        "\n",
        "from pathlib import Path\n",
        "import os\n",
        "\n",
        "# Directorio principal que contiene las subcarpetas con las imágenes y máscaras\n",
        "path = Path('./PerrosDataset2')\n",
        "\n",
        "# Obtener la lista de rutas de imágenes\n",
        "imgs = [path/'Perros'/i for i in os.listdir(path/'Perros')]\n",
        "\n",
        "# Obtener la lista de rutas de máscaras\n",
        "masks = [path/'mask'/i for i in os.listdir(path/'mask')]\n",
        "\n",
        "len(imgs), len(masks), type(imgs), type(masks)"
      ]
    },
    {
      "cell_type": "code",
      "execution_count": null,
      "metadata": {
        "colab": {
          "base_uri": "https://localhost:8080/"
        },
        "id": "jW8shM-E2etB",
        "outputId": "b3c60694-9e60-431c-e789-fd5d39d68d99"
      },
      "outputs": [
        {
          "data": {
            "text/plain": [
              "((50, 50, 3), (50, 50, 3))"
            ]
          },
          "execution_count": 21,
          "metadata": {},
          "output_type": "execute_result"
        }
      ],
      "source": [
        "img = np.load(imgs[0])\n",
        "mask = np.load(masks[0])\n",
        "\n",
        "img.shape, mask.shape"
      ]
    },
    {
      "cell_type": "code",
      "execution_count": null,
      "metadata": {
        "id": "dcASHW4CviOx"
      },
      "outputs": [],
      "source": [
        "class Dataset(torch.utils.data.Dataset):\n",
        "    def __init__(self, X, y, n_classes=9):\n",
        "        self.X = X\n",
        "        self.y = y\n",
        "        self.n_classes = n_classes\n",
        "\n",
        "    def __len__(self):\n",
        "        return len(self.X)\n",
        "\n",
        "    def __getitem__(self, ix):\n",
        "        img = np.load(self.X[ix])\n",
        "        mask = np.load(self.y[ix])\n",
        "        img = torch.tensor(img).permute(2,0,1)\n",
        "\n",
        "        # Crear una máscara one-hot para cada clase\n",
        "        mask_one_hot = np.zeros((self.n_classes, *mask.shape[:2]), dtype=np.float32)\n",
        "        for i in range(self.n_classes):\n",
        "            mask_one_hot[i][mask[..., 0] == i] = 1\n",
        "\n",
        "        # Permutar las dimensiones de la máscara para que sea (C, H, W)\n",
        "        mask_one_hot = torch.from_numpy(mask_one_hot)\n",
        "        mask_one_hot = mask_one_hot.permute(0,1,2)\n",
        "\n",
        "        return img.float(), mask_one_hot"
      ]
    },
    {
      "cell_type": "code",
      "execution_count": null,
      "metadata": {
        "colab": {
          "base_uri": "https://localhost:8080/"
        },
        "id": "yCP-3Mvyvjt8",
        "outputId": "15d0c6b3-9d59-43ea-c70a-581926b521d6"
      },
      "outputs": [
        {
          "data": {
            "text/plain": [
              "(6000, 2000)"
            ]
          },
          "execution_count": 23,
          "metadata": {},
          "output_type": "execute_result"
        }
      ],
      "source": [
        "# Tamaño del conjunto de prueba\n",
        "test_size = 2000\n",
        "\n",
        "# Dividir el conjunto de datos original en conjuntos de entrenamiento y prueba\n",
        "imagenes_train = imgs[:-test_size]\n",
        "masks_train = masks[:-test_size]\n",
        "imagenes_test = imgs[-test_size:]\n",
        "masks_test = masks[-test_size:]\n",
        "\n",
        "# Crear el diccionario de datasets\n",
        "dataset = {\n",
        "    'train': Dataset(imagenes_train, masks_train),\n",
        "    'test': Dataset(imagenes_test, masks_test)\n",
        "}\n",
        "\n",
        "# Verificar la longitud de los conjuntos de entrenamiento y prueba\n",
        "len(dataset['train']), len(dataset['test'])"
      ]
    },
    {
      "cell_type": "code",
      "execution_count": null,
      "metadata": {
        "colab": {
          "base_uri": "https://localhost:8080/"
        },
        "id": "f-yA5vEh1Lyo",
        "outputId": "6a7bb951-944f-400a-fd95-a2fa2871f6e8"
      },
      "outputs": [
        {
          "data": {
            "text/plain": [
              "(torch.Size([16, 3, 50, 50]), torch.Size([16, 9, 50, 50]))"
            ]
          },
          "execution_count": 24,
          "metadata": {},
          "output_type": "execute_result"
        }
      ],
      "source": [
        "import torch\n",
        "from torch.utils.data import DataLoader\n",
        "\n",
        "dataloader = {\n",
        "    'train': torch.utils.data.DataLoader(dataset['train'], batch_size=16, shuffle=True, pin_memory=True),\n",
        "    'test': torch.utils.data.DataLoader(dataset['test'], batch_size=32, pin_memory=True)\n",
        "}\n",
        "\n",
        "# Obtén un lote de datos de entrenamiento\n",
        "imgs, masks = next(iter(dataloader['train']))\n",
        "\n",
        "# Asegúrate de que las dimensiones sean las correctas\n",
        "imgs.shape, masks.shape"
      ]
    },
    {
      "cell_type": "code",
      "execution_count": null,
      "metadata": {
        "id": "sjzeqaEB7dDe"
      },
      "outputs": [],
      "source": [
        "from tqdm import tqdm\n",
        "\n",
        "def fit(model, dataloader, epochs=100, device=device,lr=3e-4):\n",
        "    optimizer = torch.optim.Adam(model.parameters(), lr=lr)\n",
        "    criterion = torch.nn.BCEWithLogitsLoss()\n",
        "    model.to(device)\n",
        "    hist = {'loss': [], 'iou': [], 'test_loss': [], 'test_iou': []}\n",
        "    for epoch in range(1, epochs+1):\n",
        "      bar = tqdm(dataloader['train'])\n",
        "      train_loss, train_iou = [], []\n",
        "      model.train()\n",
        "      for imgs, masks in bar:\n",
        "        imgs, masks = imgs.to(device), masks.to(device)\n",
        "        optimizer.zero_grad()\n",
        "        y_hat = model(imgs)\n",
        "        loss = criterion(y_hat, masks)\n",
        "        loss.backward()\n",
        "        optimizer.step()\n",
        "        ious = iou(y_hat, masks)\n",
        "        train_loss.append(loss.item())\n",
        "        train_iou.append(ious)\n",
        "        bar.set_description(f\"loss {np.mean(train_loss):.5f} iou {np.mean(train_iou):.5f}\")\n",
        "      hist['loss'].append(np.mean(train_loss))\n",
        "      hist['iou'].append(np.mean(train_iou))\n",
        "      bar = tqdm(dataloader['test'])\n",
        "      test_loss, test_iou = [], []\n",
        "      model.eval()\n",
        "      with torch.no_grad():\n",
        "        for imgs, masks in bar:\n",
        "          imgs, masks = imgs.to(device), masks.to(device)\n",
        "          y_hat = model(imgs)\n",
        "          loss = criterion(y_hat, masks)\n",
        "          ious = iou(y_hat, masks)\n",
        "          test_loss.append(loss.item())\n",
        "          test_iou.append(ious)\n",
        "          bar.set_description(f\"test_loss {np.mean(test_loss):.5f} test_iou {np.mean(test_iou):.5f}\")\n",
        "      hist['test_loss'].append(np.mean(test_loss))\n",
        "      hist['test_iou'].append(np.mean(test_iou))\n",
        "      print(f\"\\nEpoch {epoch}/{epochs} loss {np.mean(train_loss):.5f} iou {np.mean(train_iou):.5f} test_loss {np.mean(test_loss):.5f} test_iou {np.mean(test_iou):.5f}\")\n",
        "    return hist"
      ]
    },
    {
      "cell_type": "code",
      "execution_count": null,
      "metadata": {
        "colab": {
          "background_save": true,
          "base_uri": "https://localhost:8080/"
        },
        "id": "w1fmUxk97e4w",
        "outputId": "cebfc572-1d67-4e3e-8103-b25f07438045"
      },
      "outputs": [
        {
          "name": "stderr",
          "output_type": "stream",
          "text": [
            "loss 0.18159 iou 0.84860: 100%|██████████| 375/375 [02:05<00:00,  2.98it/s]\n",
            "test_loss 0.05444 test_iou 0.97590: 100%|██████████| 63/63 [00:15<00:00,  4.19it/s]\n"
          ]
        },
        {
          "name": "stdout",
          "output_type": "stream",
          "text": [
            "\n",
            "Epoch 1/15 loss 0.18159 iou 0.84860 test_loss 0.05444 test_iou 0.97590\n"
          ]
        },
        {
          "name": "stderr",
          "output_type": "stream",
          "text": [
            "loss 0.04280 iou 0.97796: 100%|██████████| 375/375 [02:08<00:00,  2.92it/s]\n",
            "test_loss 0.03538 test_iou 0.97984: 100%|██████████| 63/63 [00:14<00:00,  4.29it/s]\n"
          ]
        },
        {
          "name": "stdout",
          "output_type": "stream",
          "text": [
            "\n",
            "Epoch 2/15 loss 0.04280 iou 0.97796 test_loss 0.03538 test_iou 0.97984\n"
          ]
        },
        {
          "name": "stderr",
          "output_type": "stream",
          "text": [
            "loss 0.03310 iou 0.97963: 100%|██████████| 375/375 [02:05<00:00,  2.98it/s]\n",
            "test_loss 0.03057 test_iou 0.98069: 100%|██████████| 63/63 [00:14<00:00,  4.24it/s]\n"
          ]
        },
        {
          "name": "stdout",
          "output_type": "stream",
          "text": [
            "\n",
            "Epoch 3/15 loss 0.03310 iou 0.97963 test_loss 0.03057 test_iou 0.98069\n"
          ]
        },
        {
          "name": "stderr",
          "output_type": "stream",
          "text": [
            "loss 0.02923 iou 0.98085: 100%|██████████| 375/375 [02:12<00:00,  2.83it/s]\n",
            "test_loss 0.02837 test_iou 0.98142: 100%|██████████| 63/63 [00:15<00:00,  4.18it/s]\n"
          ]
        },
        {
          "name": "stdout",
          "output_type": "stream",
          "text": [
            "\n",
            "Epoch 4/15 loss 0.02923 iou 0.98085 test_loss 0.02837 test_iou 0.98142\n"
          ]
        },
        {
          "name": "stderr",
          "output_type": "stream",
          "text": [
            "loss 0.02705 iou 0.98173: 100%|██████████| 375/375 [02:05<00:00,  2.99it/s]\n",
            "test_loss 0.02750 test_iou 0.98151: 100%|██████████| 63/63 [00:15<00:00,  4.19it/s]\n"
          ]
        },
        {
          "name": "stdout",
          "output_type": "stream",
          "text": [
            "\n",
            "Epoch 5/15 loss 0.02705 iou 0.98173 test_loss 0.02750 test_iou 0.98151\n"
          ]
        },
        {
          "name": "stderr",
          "output_type": "stream",
          "text": [
            "loss 0.02533 iou 0.98248: 100%|██████████| 375/375 [02:07<00:00,  2.94it/s]\n",
            "test_loss 0.02774 test_iou 0.98175: 100%|██████████| 63/63 [00:14<00:00,  4.22it/s]\n"
          ]
        },
        {
          "name": "stdout",
          "output_type": "stream",
          "text": [
            "\n",
            "Epoch 6/15 loss 0.02533 iou 0.98248 test_loss 0.02774 test_iou 0.98175\n"
          ]
        },
        {
          "name": "stderr",
          "output_type": "stream",
          "text": [
            "loss 0.02369 iou 0.98337: 100%|██████████| 375/375 [02:07<00:00,  2.93it/s]\n",
            "test_loss 0.02748 test_iou 0.98199: 100%|██████████| 63/63 [00:14<00:00,  4.21it/s]\n"
          ]
        },
        {
          "name": "stdout",
          "output_type": "stream",
          "text": [
            "\n",
            "Epoch 7/15 loss 0.02369 iou 0.98337 test_loss 0.02748 test_iou 0.98199\n"
          ]
        },
        {
          "name": "stderr",
          "output_type": "stream",
          "text": [
            "loss 0.02264 iou 0.98387: 100%|██████████| 375/375 [02:07<00:00,  2.94it/s]\n",
            "test_loss 0.02601 test_iou 0.98251: 100%|██████████| 63/63 [00:14<00:00,  4.23it/s]\n"
          ]
        },
        {
          "name": "stdout",
          "output_type": "stream",
          "text": [
            "\n",
            "Epoch 8/15 loss 0.02264 iou 0.98387 test_loss 0.02601 test_iou 0.98251\n"
          ]
        },
        {
          "name": "stderr",
          "output_type": "stream",
          "text": [
            "loss 0.02143 iou 0.98455: 100%|██████████| 375/375 [02:06<00:00,  2.97it/s]\n",
            "test_loss 0.02532 test_iou 0.98233: 100%|██████████| 63/63 [00:14<00:00,  4.25it/s]\n"
          ]
        },
        {
          "name": "stdout",
          "output_type": "stream",
          "text": [
            "\n",
            "Epoch 9/15 loss 0.02143 iou 0.98455 test_loss 0.02532 test_iou 0.98233\n"
          ]
        },
        {
          "name": "stderr",
          "output_type": "stream",
          "text": [
            "loss 0.02025 iou 0.98529: 100%|██████████| 375/375 [02:04<00:00,  3.00it/s]\n",
            "test_loss 0.02803 test_iou 0.98010: 100%|██████████| 63/63 [00:15<00:00,  4.10it/s]\n"
          ]
        },
        {
          "name": "stdout",
          "output_type": "stream",
          "text": [
            "\n",
            "Epoch 10/15 loss 0.02025 iou 0.98529 test_loss 0.02803 test_iou 0.98010\n"
          ]
        },
        {
          "name": "stderr",
          "output_type": "stream",
          "text": [
            "loss 0.01920 iou 0.98585: 100%|██████████| 375/375 [02:10<00:00,  2.88it/s]\n",
            "test_loss 0.02707 test_iou 0.98244: 100%|██████████| 63/63 [00:15<00:00,  4.18it/s]\n"
          ]
        },
        {
          "name": "stdout",
          "output_type": "stream",
          "text": [
            "\n",
            "Epoch 11/15 loss 0.01920 iou 0.98585 test_loss 0.02707 test_iou 0.98244\n"
          ]
        },
        {
          "name": "stderr",
          "output_type": "stream",
          "text": [
            "loss 0.01819 iou 0.98655: 100%|██████████| 375/375 [02:04<00:00,  3.01it/s]\n",
            "test_loss 0.02739 test_iou 0.98221: 100%|██████████| 63/63 [00:14<00:00,  4.21it/s]\n"
          ]
        },
        {
          "name": "stdout",
          "output_type": "stream",
          "text": [
            "\n",
            "Epoch 12/15 loss 0.01819 iou 0.98655 test_loss 0.02739 test_iou 0.98221\n"
          ]
        },
        {
          "name": "stderr",
          "output_type": "stream",
          "text": [
            "loss 0.01725 iou 0.98721:  74%|███████▎  | 276/375 [01:32<00:28,  3.46it/s]"
          ]
        }
      ],
      "source": [
        "model = UNet()\n",
        "hist = fit(model, dataloader, epochs=15)"
      ]
    },
    {
      "cell_type": "code",
      "execution_count": null,
      "metadata": {
        "colab": {
          "base_uri": "https://localhost:8080/",
          "height": 430
        },
        "id": "wvOypVIP7gvJ",
        "outputId": "5daeae9c-2d07-42ff-ad20-192fc970ca88"
      },
      "outputs": [
        {
          "data": {
            "image/png": "[encoded data removed]",
            "text/plain": [
              "<Figure size 640x480 with 1 Axes>"
            ]
          },
          "metadata": {},
          "output_type": "display_data"
        }
      ],
      "source": [
        "import pandas as pd\n",
        "df = pd.DataFrame(hist)\n",
        "df.plot(grid=True)\n",
        "plt.show()"
      ]
    },
    {
      "cell_type": "code",
      "execution_count": null,
      "metadata": {
        "id": "I8daUf439ulg"
      },
      "outputs": [],
      "source": [
        "import torchvision"
      ]
    },
    {
      "cell_type": "code",
      "execution_count": null,
      "metadata": {
        "colab": {
          "base_uri": "https://localhost:8080/"
        },
        "id": "3ydYXt7_9wBR",
        "outputId": "f2221e6e-79d9-45dd-bac1-f93487db6f1e"
      },
      "outputs": [
        {
          "name": "stderr",
          "output_type": "stream",
          "text": [
            "/usr/local/lib/python3.10/dist-packages/torchvision/models/_utils.py:208: UserWarning: The parameter 'pretrained' is deprecated since 0.13 and may be removed in the future, please use 'weights' instead.\n",
            "  warnings.warn(\n",
            "/usr/local/lib/python3.10/dist-packages/torchvision/models/_utils.py:223: UserWarning: Arguments other than a weight enum or `None` for 'weights' are deprecated since 0.13 and may be removed in the future. The current behavior is equivalent to passing `weights=ResNet18_Weights.IMAGENET1K_V1`. You can also use `weights=ResNet18_Weights.DEFAULT` to get the most up-to-date weights.\n",
            "  warnings.warn(msg)\n",
            "Downloading: \"https://download.pytorch.org/models/resnet18-f37072fd.pth\" to /root/.cache/torch/hub/checkpoints/resnet18-f37072fd.pth\n",
            "100%|██████████| 44.7M/44.7M [00:00<00:00, 151MB/s]\n"
          ]
        },
        {
          "data": {
            "text/plain": [
              "ResNet(\n",
              "  (conv1): Conv2d(3, 64, kernel_size=(7, 7), stride=(2, 2), padding=(3, 3), bias=False)\n",
              "  (bn1): BatchNorm2d(64, eps=1e-05, momentum=0.1, affine=True, track_running_stats=True)\n",
              "  (relu): ReLU(inplace=True)\n",
              "  (maxpool): MaxPool2d(kernel_size=3, stride=2, padding=1, dilation=1, ceil_mode=False)\n",
              "  (layer1): Sequential(\n",
              "    (0): BasicBlock(\n",
              "      (conv1): Conv2d(64, 64, kernel_size=(3, 3), stride=(1, 1), padding=(1, 1), bias=False)\n",
              "      (bn1): BatchNorm2d(64, eps=1e-05, momentum=0.1, affine=True, track_running_stats=True)\n",
              "      (relu): ReLU(inplace=True)\n",
              "      (conv2): Conv2d(64, 64, kernel_size=(3, 3), stride=(1, 1), padding=(1, 1), bias=False)\n",
              "      (bn2): BatchNorm2d(64, eps=1e-05, momentum=0.1, affine=True, track_running_stats=True)\n",
              "    )\n",
              "    (1): BasicBlock(\n",
              "      (conv1): Conv2d(64, 64, kernel_size=(3, 3), stride=(1, 1), padding=(1, 1), bias=False)\n",
              "      (bn1): BatchNorm2d(64, eps=1e-05, momentum=0.1, affine=True, track_running_stats=True)\n",
              "      (relu): ReLU(inplace=True)\n",
              "      (conv2): Conv2d(64, 64, kernel_size=(3, 3), stride=(1, 1), padding=(1, 1), bias=False)\n",
              "      (bn2): BatchNorm2d(64, eps=1e-05, momentum=0.1, affine=True, track_running_stats=True)\n",
              "    )\n",
              "  )\n",
              "  (layer2): Sequential(\n",
              "    (0): BasicBlock(\n",
              "      (conv1): Conv2d(64, 128, kernel_size=(3, 3), stride=(2, 2), padding=(1, 1), bias=False)\n",
              "      (bn1): BatchNorm2d(128, eps=1e-05, momentum=0.1, affine=True, track_running_stats=True)\n",
              "      (relu): ReLU(inplace=True)\n",
              "      (conv2): Conv2d(128, 128, kernel_size=(3, 3), stride=(1, 1), padding=(1, 1), bias=False)\n",
              "      (bn2): BatchNorm2d(128, eps=1e-05, momentum=0.1, affine=True, track_running_stats=True)\n",
              "      (downsample): Sequential(\n",
              "        (0): Conv2d(64, 128, kernel_size=(1, 1), stride=(2, 2), bias=False)\n",
              "        (1): BatchNorm2d(128, eps=1e-05, momentum=0.1, affine=True, track_running_stats=True)\n",
              "      )\n",
              "    )\n",
              "    (1): BasicBlock(\n",
              "      (conv1): Conv2d(128, 128, kernel_size=(3, 3), stride=(1, 1), padding=(1, 1), bias=False)\n",
              "      (bn1): BatchNorm2d(128, eps=1e-05, momentum=0.1, affine=True, track_running_stats=True)\n",
              "      (relu): ReLU(inplace=True)\n",
              "      (conv2): Conv2d(128, 128, kernel_size=(3, 3), stride=(1, 1), padding=(1, 1), bias=False)\n",
              "      (bn2): BatchNorm2d(128, eps=1e-05, momentum=0.1, affine=True, track_running_stats=True)\n",
              "    )\n",
              "  )\n",
              "  (layer3): Sequential(\n",
              "    (0): BasicBlock(\n",
              "      (conv1): Conv2d(128, 256, kernel_size=(3, 3), stride=(2, 2), padding=(1, 1), bias=False)\n",
              "      (bn1): BatchNorm2d(256, eps=1e-05, momentum=0.1, affine=True, track_running_stats=True)\n",
              "      (relu): ReLU(inplace=True)\n",
              "      (conv2): Conv2d(256, 256, kernel_size=(3, 3), stride=(1, 1), padding=(1, 1), bias=False)\n",
              "      (bn2): BatchNorm2d(256, eps=1e-05, momentum=0.1, affine=True, track_running_stats=True)\n",
              "      (downsample): Sequential(\n",
              "        (0): Conv2d(128, 256, kernel_size=(1, 1), stride=(2, 2), bias=False)\n",
              "        (1): BatchNorm2d(256, eps=1e-05, momentum=0.1, affine=True, track_running_stats=True)\n",
              "      )\n",
              "    )\n",
              "    (1): BasicBlock(\n",
              "      (conv1): Conv2d(256, 256, kernel_size=(3, 3), stride=(1, 1), padding=(1, 1), bias=False)\n",
              "      (bn1): BatchNorm2d(256, eps=1e-05, momentum=0.1, affine=True, track_running_stats=True)\n",
              "      (relu): ReLU(inplace=True)\n",
              "      (conv2): Conv2d(256, 256, kernel_size=(3, 3), stride=(1, 1), padding=(1, 1), bias=False)\n",
              "      (bn2): BatchNorm2d(256, eps=1e-05, momentum=0.1, affine=True, track_running_stats=True)\n",
              "    )\n",
              "  )\n",
              "  (layer4): Sequential(\n",
              "    (0): BasicBlock(\n",
              "      (conv1): Conv2d(256, 512, kernel_size=(3, 3), stride=(2, 2), padding=(1, 1), bias=False)\n",
              "      (bn1): BatchNorm2d(512, eps=1e-05, momentum=0.1, affine=True, track_running_stats=True)\n",
              "      (relu): ReLU(inplace=True)\n",
              "      (conv2): Conv2d(512, 512, kernel_size=(3, 3), stride=(1, 1), padding=(1, 1), bias=False)\n",
              "      (bn2): BatchNorm2d(512, eps=1e-05, momentum=0.1, affine=True, track_running_stats=True)\n",
              "      (downsample): Sequential(\n",
              "        (0): Conv2d(256, 512, kernel_size=(1, 1), stride=(2, 2), bias=False)\n",
              "        (1): BatchNorm2d(512, eps=1e-05, momentum=0.1, affine=True, track_running_stats=True)\n",
              "      )\n",
              "    )\n",
              "    (1): BasicBlock(\n",
              "      (conv1): Conv2d(512, 512, kernel_size=(3, 3), stride=(1, 1), padding=(1, 1), bias=False)\n",
              "      (bn1): BatchNorm2d(512, eps=1e-05, momentum=0.1, affine=True, track_running_stats=True)\n",
              "      (relu): ReLU(inplace=True)\n",
              "      (conv2): Conv2d(512, 512, kernel_size=(3, 3), stride=(1, 1), padding=(1, 1), bias=False)\n",
              "      (bn2): BatchNorm2d(512, eps=1e-05, momentum=0.1, affine=True, track_running_stats=True)\n",
              "    )\n",
              "  )\n",
              "  (avgpool): AdaptiveAvgPool2d(output_size=(1, 1))\n",
              "  (fc): Linear(in_features=512, out_features=1000, bias=True)\n",
              ")"
            ]
          },
          "execution_count": 29,
          "metadata": {},
          "output_type": "execute_result"
        }
      ],
      "source": [
        "encoder = torchvision.models.resnet18(pretrained=True)\n",
        "encoder"
      ]
    },
    {
      "cell_type": "code",
      "execution_count": null,
      "metadata": {
        "id": "iCBjVjLp91Me"
      },
      "outputs": [],
      "source": [
        "class out_conv(torch.nn.Module):\n",
        "    def __init__(self, ci, co, coo):\n",
        "        super(out_conv, self).__init__()\n",
        "        self.upsample = torch.nn.ConvTranspose2d(ci, co, 2, stride=2)\n",
        "        self.conv = conv3x3_bn(ci, co)\n",
        "        self.final = torch.nn.Conv2d(co, coo, 1)\n",
        "\n",
        "    def forward(self, x1, x2):\n",
        "        x1 = self.upsample(x1)\n",
        "        diffX = x2.size()[2] - x1.size()[2]\n",
        "        diffY = x2.size()[3] - x1.size()[3]\n",
        "        x1 = F.pad(x1, (diffX, 0, diffY, 0))\n",
        "        x = self.conv(x1)\n",
        "        x = self.final(x)\n",
        "        return x\n",
        "\n",
        "class UNetResnet(torch.nn.Module):\n",
        "    def __init__(self, n_classes=9, in_ch=3):\n",
        "        super().__init__()\n",
        "\n",
        "        self.encoder = torchvision.models.resnet18(pretrained=True)\n",
        "        if in_ch != 3:\n",
        "          self.encoder.conv1 = torch.nn.Conv2d(in_ch, 64, kernel_size=7, stride=2, padding=3, bias=False)\n",
        "\n",
        "        self.deconv1 = deconv(512,256)\n",
        "        self.deconv2 = deconv(256,128)\n",
        "        self.deconv3 = deconv(128,64)\n",
        "        self.out = out_conv(64, 64, n_classes)\n",
        "\n",
        "    def forward(self, x):\n",
        "        x_in = torch.tensor(x.clone())\n",
        "        x = self.encoder.relu(self.encoder.bn1(self.encoder.conv1(x)))\n",
        "        x1 = self.encoder.layer1(x)\n",
        "        x2 = self.encoder.layer2(x1)\n",
        "        x3 = self.encoder.layer3(x2)\n",
        "        x = self.encoder.layer4(x3)\n",
        "        x = self.deconv1(x, x3)\n",
        "        x = self.deconv2(x, x2)\n",
        "        x = self.deconv3(x, x1)\n",
        "        x = self.out(x, x_in)\n",
        "        return x"
      ]
    },
    {
      "cell_type": "code",
      "execution_count": null,
      "metadata": {
        "colab": {
          "base_uri": "https://localhost:8080/"
        },
        "id": "lPC9mvft93KI",
        "outputId": "10144ff5-9f59-4134-9ab3-4871e838cbc2"
      },
      "outputs": [
        {
          "name": "stderr",
          "output_type": "stream",
          "text": [
            "<ipython-input-30-a9fb68643661>:31: UserWarning: To copy construct from a tensor, it is recommended to use sourceTensor.clone().detach() or sourceTensor.clone().detach().requires_grad_(True), rather than torch.tensor(sourceTensor).\n",
            "  x_in = torch.tensor(x.clone())\n"
          ]
        },
        {
          "data": {
            "text/plain": [
              "torch.Size([10, 9, 394, 394])"
            ]
          },
          "execution_count": 31,
          "metadata": {},
          "output_type": "execute_result"
        }
      ],
      "source": [
        "model = UNetResnet()\n",
        "output = model(torch.randn((10,3,394,394)))\n",
        "output.shape"
      ]
    },
    {
      "cell_type": "code",
      "execution_count": null,
      "metadata": {
        "colab": {
          "base_uri": "https://localhost:8080/"
        },
        "id": "9W4lVmhW9_tB",
        "outputId": "8a50ab74-864b-48a9-a184-16229fdcff39"
      },
      "outputs": [
        {
          "name": "stderr",
          "output_type": "stream",
          "text": [
            "/usr/local/lib/python3.10/dist-packages/torchvision/models/_utils.py:208: UserWarning: The parameter 'pretrained' is deprecated since 0.13 and may be removed in the future, please use 'weights' instead.\n",
            "  warnings.warn(\n",
            "/usr/local/lib/python3.10/dist-packages/torchvision/models/_utils.py:223: UserWarning: Arguments other than a weight enum or `None` for 'weights' are deprecated since 0.13 and may be removed in the future. The current behavior is equivalent to passing `weights=ResNet18_Weights.IMAGENET1K_V1`. You can also use `weights=ResNet18_Weights.DEFAULT` to get the most up-to-date weights.\n",
            "  warnings.warn(msg)\n",
            "  0%|          | 0/375 [00:00<?, ?it/s]<ipython-input-30-a9fb68643661>:31: UserWarning: To copy construct from a tensor, it is recommended to use sourceTensor.clone().detach() or sourceTensor.clone().detach().requires_grad_(True), rather than torch.tensor(sourceTensor).\n",
            "  x_in = torch.tensor(x.clone())\n",
            "loss 0.23934 iou 0.89699: 100%|██████████| 375/375 [00:17<00:00, 21.23it/s]\n",
            "test_loss 0.07655 test_iou 0.98273: 100%|██████████| 63/63 [00:02<00:00, 29.62it/s]\n"
          ]
        },
        {
          "name": "stdout",
          "output_type": "stream",
          "text": [
            "\n",
            "Epoch 1/15 loss 0.23934 iou 0.89699 test_loss 0.07655 test_iou 0.98273\n"
          ]
        },
        {
          "name": "stderr",
          "output_type": "stream",
          "text": [
            "loss 0.05091 iou 0.98385: 100%|██████████| 375/375 [00:17<00:00, 21.74it/s]\n",
            "test_loss 0.03773 test_iou 0.98446: 100%|██████████| 63/63 [00:02<00:00, 27.55it/s]\n"
          ]
        },
        {
          "name": "stdout",
          "output_type": "stream",
          "text": [
            "\n",
            "Epoch 2/15 loss 0.05091 iou 0.98385 test_loss 0.03773 test_iou 0.98446\n"
          ]
        },
        {
          "name": "stderr",
          "output_type": "stream",
          "text": [
            "loss 0.02938 iou 0.98580: 100%|██████████| 375/375 [00:17<00:00, 21.55it/s]\n",
            "test_loss 0.02837 test_iou 0.98453: 100%|██████████| 63/63 [00:02<00:00, 30.02it/s]\n"
          ]
        },
        {
          "name": "stdout",
          "output_type": "stream",
          "text": [
            "\n",
            "Epoch 3/15 loss 0.02938 iou 0.98580 test_loss 0.02837 test_iou 0.98453\n"
          ]
        },
        {
          "name": "stderr",
          "output_type": "stream",
          "text": [
            "loss 0.02266 iou 0.98689: 100%|██████████| 375/375 [00:17<00:00, 21.99it/s]\n",
            "test_loss 0.02479 test_iou 0.98476: 100%|██████████| 63/63 [00:02<00:00, 30.04it/s]\n"
          ]
        },
        {
          "name": "stdout",
          "output_type": "stream",
          "text": [
            "\n",
            "Epoch 4/15 loss 0.02266 iou 0.98689 test_loss 0.02479 test_iou 0.98476\n"
          ]
        },
        {
          "name": "stderr",
          "output_type": "stream",
          "text": [
            "loss 0.01914 iou 0.98789: 100%|██████████| 375/375 [00:17<00:00, 21.55it/s]\n",
            "test_loss 0.02388 test_iou 0.98504: 100%|██████████| 63/63 [00:02<00:00, 26.93it/s]\n"
          ]
        },
        {
          "name": "stdout",
          "output_type": "stream",
          "text": [
            "\n",
            "Epoch 5/15 loss 0.01914 iou 0.98789 test_loss 0.02388 test_iou 0.98504\n"
          ]
        },
        {
          "name": "stderr",
          "output_type": "stream",
          "text": [
            "loss 0.01686 iou 0.98868: 100%|██████████| 375/375 [00:17<00:00, 21.78it/s]\n",
            "test_loss 0.02256 test_iou 0.98526: 100%|██████████| 63/63 [00:02<00:00, 28.88it/s]\n"
          ]
        },
        {
          "name": "stdout",
          "output_type": "stream",
          "text": [
            "\n",
            "Epoch 6/15 loss 0.01686 iou 0.98868 test_loss 0.02256 test_iou 0.98526\n"
          ]
        },
        {
          "name": "stderr",
          "output_type": "stream",
          "text": [
            "loss 0.01521 iou 0.98938: 100%|██████████| 375/375 [00:17<00:00, 21.68it/s]\n",
            "test_loss 0.02229 test_iou 0.98527: 100%|██████████| 63/63 [00:02<00:00, 25.18it/s]\n"
          ]
        },
        {
          "name": "stdout",
          "output_type": "stream",
          "text": [
            "\n",
            "Epoch 7/15 loss 0.01521 iou 0.98938 test_loss 0.02229 test_iou 0.98527\n"
          ]
        },
        {
          "name": "stderr",
          "output_type": "stream",
          "text": [
            "loss 0.01418 iou 0.98988: 100%|██████████| 375/375 [00:17<00:00, 21.83it/s]\n",
            "test_loss 0.02409 test_iou 0.98491: 100%|██████████| 63/63 [00:02<00:00, 29.86it/s]\n"
          ]
        },
        {
          "name": "stdout",
          "output_type": "stream",
          "text": [
            "\n",
            "Epoch 8/15 loss 0.01418 iou 0.98988 test_loss 0.02409 test_iou 0.98491\n"
          ]
        },
        {
          "name": "stderr",
          "output_type": "stream",
          "text": [
            "loss 0.01364 iou 0.99004: 100%|██████████| 375/375 [00:17<00:00, 21.99it/s]\n",
            "test_loss 0.02245 test_iou 0.98530: 100%|██████████| 63/63 [00:02<00:00, 28.48it/s]\n"
          ]
        },
        {
          "name": "stdout",
          "output_type": "stream",
          "text": [
            "\n",
            "Epoch 9/15 loss 0.01364 iou 0.99004 test_loss 0.02245 test_iou 0.98530\n"
          ]
        },
        {
          "name": "stderr",
          "output_type": "stream",
          "text": [
            "loss 0.01269 iou 0.99061: 100%|██████████| 375/375 [00:17<00:00, 21.44it/s]\n",
            "test_loss 0.02370 test_iou 0.98541: 100%|██████████| 63/63 [00:02<00:00, 29.69it/s]\n"
          ]
        },
        {
          "name": "stdout",
          "output_type": "stream",
          "text": [
            "\n",
            "Epoch 10/15 loss 0.01269 iou 0.99061 test_loss 0.02370 test_iou 0.98541\n"
          ]
        },
        {
          "name": "stderr",
          "output_type": "stream",
          "text": [
            "loss 0.01219 iou 0.99091: 100%|██████████| 375/375 [00:17<00:00, 21.87it/s]\n",
            "test_loss 0.02614 test_iou 0.98417: 100%|██████████| 63/63 [00:02<00:00, 29.62it/s]\n"
          ]
        },
        {
          "name": "stdout",
          "output_type": "stream",
          "text": [
            "\n",
            "Epoch 11/15 loss 0.01219 iou 0.99091 test_loss 0.02614 test_iou 0.98417\n"
          ]
        },
        {
          "name": "stderr",
          "output_type": "stream",
          "text": [
            "loss 0.01214 iou 0.99084: 100%|██████████| 375/375 [00:17<00:00, 21.53it/s]\n",
            "test_loss 0.02417 test_iou 0.98468: 100%|██████████| 63/63 [00:02<00:00, 26.64it/s]\n"
          ]
        },
        {
          "name": "stdout",
          "output_type": "stream",
          "text": [
            "\n",
            "Epoch 12/15 loss 0.01214 iou 0.99084 test_loss 0.02417 test_iou 0.98468\n"
          ]
        },
        {
          "name": "stderr",
          "output_type": "stream",
          "text": [
            "loss 0.01175 iou 0.99111: 100%|██████████| 375/375 [00:17<00:00, 21.14it/s]\n",
            "test_loss 0.02410 test_iou 0.98549: 100%|██████████| 63/63 [00:02<00:00, 29.69it/s]\n"
          ]
        },
        {
          "name": "stdout",
          "output_type": "stream",
          "text": [
            "\n",
            "Epoch 13/15 loss 0.01175 iou 0.99111 test_loss 0.02410 test_iou 0.98549\n"
          ]
        },
        {
          "name": "stderr",
          "output_type": "stream",
          "text": [
            "loss 0.01070 iou 0.99182: 100%|██████████| 375/375 [00:17<00:00, 21.63it/s]\n",
            "test_loss 0.02452 test_iou 0.98550: 100%|██████████| 63/63 [00:02<00:00, 24.26it/s]\n"
          ]
        },
        {
          "name": "stdout",
          "output_type": "stream",
          "text": [
            "\n",
            "Epoch 14/15 loss 0.01070 iou 0.99182 test_loss 0.02452 test_iou 0.98550\n"
          ]
        },
        {
          "name": "stderr",
          "output_type": "stream",
          "text": [
            "loss 0.01019 iou 0.99218: 100%|██████████| 375/375 [00:17<00:00, 21.85it/s]\n",
            "test_loss 0.02474 test_iou 0.98552: 100%|██████████| 63/63 [00:02<00:00, 29.85it/s]"
          ]
        },
        {
          "name": "stdout",
          "output_type": "stream",
          "text": [
            "\n",
            "Epoch 15/15 loss 0.01019 iou 0.99218 test_loss 0.02474 test_iou 0.98552\n"
          ]
        },
        {
          "name": "stderr",
          "output_type": "stream",
          "text": [
            "\n"
          ]
        }
      ],
      "source": [
        "model = UNetResnet()\n",
        "hist = fit(model, dataloader, epochs=15)"
      ]
    },
    {
      "cell_type": "code",
      "execution_count": null,
      "metadata": {
        "colab": {
          "base_uri": "https://localhost:8080/",
          "height": 430
        },
        "id": "DA2uGtvLIAKI",
        "outputId": "6a6702aa-c06c-4612-cb5e-af1fc41fb940"
      },
      "outputs": [
        {
          "data": {
            "image/png": "[encoded data removed]",
            "text/plain": [
              "<Figure size 640x480 with 1 Axes>"
            ]
          },
          "metadata": {},
          "output_type": "display_data"
        }
      ],
      "source": [
        "import pandas as pd\n",
        "df = pd.DataFrame(hist)\n",
        "df.plot(grid=True)\n",
        "plt.show()"
      ]
    },
    {
      "cell_type": "code",
      "execution_count": 66,
      "metadata": {
        "colab": {
          "base_uri": "https://localhost:8080/",
          "height": 376
        },
        "id": "iEqiZ351IDQA",
        "outputId": "0db352ec-4761-4144-d105-2504f246f802"
      },
      "outputs": [
        {
          "output_type": "stream",
          "name": "stderr",
          "text": [
            "<ipython-input-30-a9fb68643661>:31: UserWarning: To copy construct from a tensor, it is recommended to use sourceTensor.clone().detach() or sourceTensor.clone().detach().requires_grad_(True), rather than torch.tensor(sourceTensor).\n",
            "  x_in = torch.tensor(x.clone())\n"
          ]
        },
        {
          "output_type": "display_data",
          "data": {
            "text/plain": [
              "<Figure size 3000x1000 with 3 Axes>"
            ],
            "image/png": "[encoded data removed]"
          },
          "metadata": {}
        }
      ],
      "source": [
        "import random\n",
        "import matplotlib.pyplot as plt\n",
        "\n",
        "# Suponiendo que 'model', 'dataset' y 'device' ya están definidos\n",
        "\n",
        "model.eval()\n",
        "with torch.no_grad():\n",
        "    ix = random.randint(0, len(dataset['test'])-1)\n",
        "    img, mask = dataset['test'][ix]\n",
        "    output = model(img.unsqueeze(0).to(device))[0]\n",
        "    output = output*(-1)\n",
        "    pred_mask = torch.argmax(output, axis=0)\n",
        "\n",
        "fig, (ax1, ax2, ax3) = plt.subplots(1, 3, figsize=(30,10))\n",
        "ax1.imshow(img.squeeze(0).permute(1,2,0)/255.)\n",
        "ax1.set_title('Input Image')\n",
        "ax2.imshow(torch.argmax(mask*(-1), axis=0))\n",
        "ax2.set_title('Ground Truth Mask')\n",
        "ax3.imshow(pred_mask.squeeze().cpu().numpy())\n",
        "ax3.set_title('Predicted Mask')\n",
        "plt.show()\n"
      ]
    }
  ],
  "metadata": {
    "accelerator": "GPU",
    "colab": {
      "gpuType": "T4",
      "provenance": [],
      "include_colab_link": true
    },
    "kernelspec": {
      "display_name": "Python 3",
      "name": "python3"
    },
    "language_info": {
      "codemirror_mode": {
        "name": "ipython",
        "version": 3
      },
      "file_extension": ".py",
      "mimetype": "text/x-python",
      "name": "python",
      "nbconvert_exporter": "python",
      "pygments_lexer": "ipython3",
      "version": "3.12.0"
    }
  },
  "nbformat": 4,
  "nbformat_minor": 0
}